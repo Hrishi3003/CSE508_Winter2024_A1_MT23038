{
 "cells": [
  {
   "cell_type": "code",
   "execution_count": 1,
   "id": "5b72ed33",
   "metadata": {},
   "outputs": [],
   "source": [
    "import os\n",
    "list1=os.listdir('C:/Users/Asus/AssignmentTest/text_files_fresh')"
   ]
  },
  {
   "cell_type": "code",
   "execution_count": 2,
   "id": "aab51dbf",
   "metadata": {},
   "outputs": [],
   "source": [
    "path='C:/Users/Asus/AssignmentTest/text_files_fresh'"
   ]
  },
  {
   "cell_type": "code",
   "execution_count": 15,
   "id": "191e6f5c",
   "metadata": {},
   "outputs": [
    {
     "data": {
      "text/plain": [
       "999"
      ]
     },
     "execution_count": 15,
     "metadata": {},
     "output_type": "execute_result"
    }
   ],
   "source": [
    "len(list1)"
   ]
  },
  {
   "cell_type": "code",
   "execution_count": 3,
   "id": "a1404a1d",
   "metadata": {},
   "outputs": [],
   "source": [
    "for f1 in list1:\n",
    "    with open(f'{path}/{f1}', mode='r') as file_in:\n",
    "        content = file_in.read().lower()\n",
    "    \n",
    "    with open(f'{path}/{f1}', mode='w') as file_out:\n",
    "        file_out.write(content)"
   ]
  },
  {
   "cell_type": "code",
   "execution_count": 18,
   "id": "1a43ad94",
   "metadata": {},
   "outputs": [
    {
     "name": "stdout",
     "output_type": "stream",
     "text": [
      "Text content for file1.txt:\n",
      "loving vintage springs vintage strat good tension great stability floating bridge want springs way go\n",
      "\n",
      "Text content for file10.txt:\n",
      "awesome stand tip bottom part supports guitar weird angle arrived making guitar slide back becoming almost 100 vertical solve assembled product put pressure support frame making bend little guitar sits perfectly check photos\n",
      "\n",
      "Text content for file100.txt:\n",
      "amp real deal great crunch gain tones tweaking half bad clean ish tones played two 8 orange cabs get cool cute crazy money sound pleasing revealing practice amp primarily play blackstar stack fitted celestion v30s wow would never know thing tone monster even knobs easy get lost hours playing thing favorite match chapman ml1 hotrod volume tone control evh fans get lot mucking around many knobs many options either guitar amp tone go see micro dark came probably next higher gain buffered effects loop speaker emu headphone recording direct thing\n",
      "\n",
      "Text content for file101.txt:\n",
      "lot mixer great podcasting 4 outputs used monitor record cue audio mute 34 figure every channel fantastic three source switch headphonecontrol room must podcasting also aux return inputs used extra stereo inputs volumed aux return knobs thing nt like mixer xlr outputs back require adaptors use rca 14 plugs get adaptors\n",
      "\n",
      "Text content for file102.txt:\n",
      "mic boss lot better mic seen used outofthebox voice sounds great even processing compression eq sounds fantastic rejects ton background noise sounds amazing runs hot want clean preamping get clean signal amazing mic price\n",
      "\n"
     ]
    }
   ],
   "source": [
    "import os\n",
    "from bs4 import BeautifulSoup\n",
    "\n",
    "def extract_and_write_text_to_original(dataset_path):\n",
    "    i = 1\n",
    "    files_processed = 0\n",
    "    docId = {}\n",
    "\n",
    "    for file in list1:\n",
    "        if os.path.isfile(os.path.join(dataset_path, file)):\n",
    "            # Open the file for reading\n",
    "            with open(os.path.join(dataset_path, file), 'r') as f:\n",
    "                # Assign a document ID to each file\n",
    "                docId[i] = file\n",
    "                i += 1\n",
    "                files_processed += 1\n",
    "                # Read the contents of the file\n",
    "                data = f.read()\n",
    "\n",
    "                # Use BeautifulSoup to parse the HTML content\n",
    "                soup = BeautifulSoup(data, 'html.parser')\n",
    "\n",
    "                # Extract text content from the HTML\n",
    "                text_content = soup.get_text(separator=' ', strip=True)\n",
    "\n",
    "                if files_processed <= 5:\n",
    "                    print(f\"Text content for {file}:\\n{text_content}\\n\")\n",
    "\n",
    "                # Write the extracted text back to the original file\n",
    "                with open(os.path.join(dataset_path, file), 'w') as fw:\n",
    "                    fw.write(text_content)\n",
    "\n",
    "\n",
    "extract_and_write_text_to_original(path)\n",
    "\n"
   ]
  },
  {
   "cell_type": "code",
   "execution_count": 5,
   "id": "9e34366f",
   "metadata": {},
   "outputs": [
    {
     "name": "stderr",
     "output_type": "stream",
     "text": [
      "[nltk_data] Downloading package punkt to\n",
      "[nltk_data]     C:\\Users\\Asus\\AppData\\Roaming\\nltk_data...\n",
      "[nltk_data]   Package punkt is already up-to-date!\n"
     ]
    },
    {
     "data": {
      "text/plain": [
       "True"
      ]
     },
     "execution_count": 5,
     "metadata": {},
     "output_type": "execute_result"
    }
   ],
   "source": [
    "import nltk\n",
    "nltk.download('punkt')"
   ]
  },
  {
   "cell_type": "code",
   "execution_count": 6,
   "id": "02bb4173",
   "metadata": {},
   "outputs": [],
   "source": [
    "from nltk import word_tokenize\n",
    "\n",
    "for f1 in list1:\n",
    "    with open(f'{path}/{f1}', mode='r') as f:\n",
    "        token = f.read()\n",
    "\n",
    "    token = word_tokenize(token)\n",
    "    token_str = \" \".join(token)\n",
    "\n",
    "    with open(f'{path}/{f1}', mode='w') as f:\n",
    "        f.write(token_str)"
   ]
  },
  {
   "cell_type": "code",
   "execution_count": 7,
   "id": "6e4b12ad",
   "metadata": {},
   "outputs": [
    {
     "name": "stdout",
     "output_type": "stream",
     "text": [
      "File  1\n",
      "\n",
      "\n",
      "loving vintage springs vintage strat good tension great stability floating bridge want springs way go\n",
      "\n",
      "\n",
      "File  2\n",
      "\n",
      "\n",
      "awesome stand tip bottom part supports guitar weird angle arrived making guitar slide back becoming almost 100 vertical solve assembled product put pressure support frame making bend little guitar sits perfectly check photos\n",
      "\n",
      "\n",
      "File  3\n",
      "\n",
      "\n",
      "amp real deal great crunch gain tones tweaking half bad clean ish tones ve played two 8 orange cabs get cool cute crazy money sound pleasing revealing practice amp primarily play blackstar stack ve fitted celestion v30s wow is would never know thing tone monster even knobs s easy get lost hours playing thing favorite match chapman ml1 hotrod volume tone control evh fans get lot mucking around many knobs many options either guitar amp tone go see micro dark came s probably next higher gain buffered effects loop speaker emu headphone recording direct s thing\n",
      "\n",
      "\n",
      "File  4\n",
      "\n",
      "\n",
      "lot mixer great podcasting 4 outputs used monitor record cue audio mute 34 figure every channel fantastic three source switch headphonecontrol room must podcasting also aux return inputs used extra stereo inputs volumed aux return knobs thing nt like mixer xlr outputs back require adaptors use rca 14 plugs get adaptors\n",
      "\n",
      "\n",
      "File  5\n",
      "\n",
      "\n",
      "mic boss lot better mic ve seen used outofthebox voice sounds great even processing compression eq sounds fantastic rejects ton background noise sounds amazing runs hot ll want clean preamping get clean signal amazing mic price\n",
      "\n",
      "\n"
     ]
    }
   ],
   "source": [
    "for i in range(5):\n",
    "    print(\"File \", (i + 1))\n",
    "    print(\"\\n\")\n",
    "    with open(f'{path}/{list1[i]}', mode='r') as x:\n",
    "        print(x.read())\n",
    "    print(\"\\n\")"
   ]
  },
  {
   "cell_type": "code",
   "execution_count": 8,
   "id": "4ffda26b",
   "metadata": {},
   "outputs": [
    {
     "name": "stdout",
     "output_type": "stream",
     "text": [
      "Requirement already satisfied: nltk in c:\\users\\asus\\anaconda3\\lib\\site-packages (3.7)\n",
      "Requirement already satisfied: regex>=2021.8.3 in c:\\users\\asus\\anaconda3\\lib\\site-packages (from nltk) (2022.3.15)\n",
      "Requirement already satisfied: joblib in c:\\users\\asus\\anaconda3\\lib\\site-packages (from nltk) (1.1.0)\n",
      "Requirement already satisfied: click in c:\\users\\asus\\anaconda3\\lib\\site-packages (from nltk) (8.0.4)\n",
      "Requirement already satisfied: tqdm in c:\\users\\asus\\anaconda3\\lib\\site-packages (from nltk) (4.64.0)\n",
      "Requirement already satisfied: colorama in c:\\users\\asus\\anaconda3\\lib\\site-packages (from click->nltk) (0.4.3)\n",
      "Note: you may need to restart the kernel to use updated packages.\n"
     ]
    }
   ],
   "source": [
    "pip install nltk"
   ]
  },
  {
   "cell_type": "code",
   "execution_count": 9,
   "id": "9d6f5697",
   "metadata": {},
   "outputs": [
    {
     "name": "stderr",
     "output_type": "stream",
     "text": [
      "[nltk_data] Downloading package stopwords to\n",
      "[nltk_data]     C:\\Users\\Asus\\AppData\\Roaming\\nltk_data...\n",
      "[nltk_data]   Package stopwords is already up-to-date!\n"
     ]
    },
    {
     "data": {
      "text/plain": [
       "True"
      ]
     },
     "execution_count": 9,
     "metadata": {},
     "output_type": "execute_result"
    }
   ],
   "source": [
    "import nltk\n",
    "nltk.download('stopwords')\n"
   ]
  },
  {
   "cell_type": "code",
   "execution_count": 10,
   "id": "20dbbb5f",
   "metadata": {},
   "outputs": [],
   "source": [
    "from nltk.corpus import stopwords\n",
    "\n",
    "for f1 in list1:\n",
    "    with open(f'{path}/{f1}', mode='r') as f:\n",
    "        new_token = f.read()\n",
    "\n",
    "    new_token = list(new_token.split(\" \"))\n",
    "    stop_string = []\n",
    "    sw = stopwords.words('english')\n",
    "    \n",
    "    for i in new_token:\n",
    "        if i not in sw:\n",
    "            stop_string.append(i)\n",
    "\n",
    "    stop_stringUpdated = \" \".join(stop_string)\n",
    "\n",
    "    with open(f'{path}/{f1}', mode='w') as f:\n",
    "        f.write(stop_stringUpdated)"
   ]
  },
  {
   "cell_type": "code",
   "execution_count": 11,
   "id": "212dacb0",
   "metadata": {},
   "outputs": [
    {
     "name": "stdout",
     "output_type": "stream",
     "text": [
      "File  1\n",
      "\n",
      "\n",
      "loving vintage springs vintage strat good tension great stability floating bridge want springs way go\n",
      "\n",
      "\n",
      "File  2\n",
      "\n",
      "\n",
      "awesome stand tip bottom part supports guitar weird angle arrived making guitar slide back becoming almost 100 vertical solve assembled product put pressure support frame making bend little guitar sits perfectly check photos\n",
      "\n",
      "\n",
      "File  3\n",
      "\n",
      "\n",
      "amp real deal great crunch gain tones tweaking half bad clean ish tones played two 8 orange cabs get cool cute crazy money sound pleasing revealing practice amp primarily play blackstar stack fitted celestion v30s wow would never know thing tone monster even knobs easy get lost hours playing thing favorite match chapman ml1 hotrod volume tone control evh fans get lot mucking around many knobs many options either guitar amp tone go see micro dark came probably next higher gain buffered effects loop speaker emu headphone recording direct thing\n",
      "\n",
      "\n",
      "File  4\n",
      "\n",
      "\n",
      "lot mixer great podcasting 4 outputs used monitor record cue audio mute 34 figure every channel fantastic three source switch headphonecontrol room must podcasting also aux return inputs used extra stereo inputs volumed aux return knobs thing nt like mixer xlr outputs back require adaptors use rca 14 plugs get adaptors\n",
      "\n",
      "\n",
      "File  5\n",
      "\n",
      "\n",
      "mic boss lot better mic seen used outofthebox voice sounds great even processing compression eq sounds fantastic rejects ton background noise sounds amazing runs hot want clean preamping get clean signal amazing mic price\n",
      "\n",
      "\n"
     ]
    }
   ],
   "source": [
    "for i in range(5):\n",
    "    print(\"File \", (i + 1))\n",
    "    print(\"\\n\")\n",
    "    with open(f'{path}/{list1[i]}', mode='r') as x:\n",
    "        print(x.read())\n",
    "    print(\"\\n\")\n"
   ]
  },
  {
   "cell_type": "code",
   "execution_count": 12,
   "id": "c4e37c35",
   "metadata": {},
   "outputs": [],
   "source": [
    "import string\n",
    "\n",
    "# Define the set of punctuation characters\n",
    "pun = string.punctuation\n",
    "\n",
    "for filename in list1:\n",
    "    with open(f'{path}/{filename}', mode='r') as file_in:\n",
    "        text = file_in.read()\n",
    "\n",
    "    # Remove punctuation from the text\n",
    "    text_without_pun = text.translate(str.maketrans('', '', pun))\n",
    "\n",
    "    with open(f'{path}/{filename}', mode='w') as file_out:\n",
    "        file_out.write(text_without_pun)\n"
   ]
  },
  {
   "cell_type": "code",
   "execution_count": 13,
   "id": "23142fdb",
   "metadata": {},
   "outputs": [
    {
     "name": "stdout",
     "output_type": "stream",
     "text": [
      "File  1\n",
      "\n",
      "\n",
      "loving vintage springs vintage strat good tension great stability floating bridge want springs way go\n",
      "\n",
      "\n",
      "File  2\n",
      "\n",
      "\n",
      "awesome stand tip bottom part supports guitar weird angle arrived making guitar slide back becoming almost 100 vertical solve assembled product put pressure support frame making bend little guitar sits perfectly check photos\n",
      "\n",
      "\n",
      "File  3\n",
      "\n",
      "\n",
      "amp real deal great crunch gain tones tweaking half bad clean ish tones played two 8 orange cabs get cool cute crazy money sound pleasing revealing practice amp primarily play blackstar stack fitted celestion v30s wow would never know thing tone monster even knobs easy get lost hours playing thing favorite match chapman ml1 hotrod volume tone control evh fans get lot mucking around many knobs many options either guitar amp tone go see micro dark came probably next higher gain buffered effects loop speaker emu headphone recording direct thing\n",
      "\n",
      "\n",
      "File  4\n",
      "\n",
      "\n",
      "lot mixer great podcasting 4 outputs used monitor record cue audio mute 34 figure every channel fantastic three source switch headphonecontrol room must podcasting also aux return inputs used extra stereo inputs volumed aux return knobs thing nt like mixer xlr outputs back require adaptors use rca 14 plugs get adaptors\n",
      "\n",
      "\n",
      "File  5\n",
      "\n",
      "\n",
      "mic boss lot better mic seen used outofthebox voice sounds great even processing compression eq sounds fantastic rejects ton background noise sounds amazing runs hot want clean preamping get clean signal amazing mic price\n",
      "\n",
      "\n"
     ]
    }
   ],
   "source": [
    "for i in range(5):\n",
    "    print(\"File \", (i + 1))\n",
    "    print(\"\\n\")\n",
    "    with open(f'{path}/{list1[i]}', mode='r') as x:\n",
    "        print(x.read())\n",
    "    print(\"\\n\")\n"
   ]
  },
  {
   "cell_type": "code",
   "execution_count": 14,
   "id": "4a757bae",
   "metadata": {},
   "outputs": [],
   "source": [
    "for filename in list1: #removes extra white spaces \n",
    "    with open(f'{path}/{filename}', mode='r') as file_in:\n",
    "        text = file_in.read()\n",
    "\n",
    "    final_string = \" \".join(text.split())\n",
    "\n",
    "    with open(f'{path}/{filename}', mode='w') as file_out:\n",
    "        file_out.write(final_string)\n"
   ]
  },
  {
   "cell_type": "code",
   "execution_count": 22,
   "id": "f2123c9c",
   "metadata": {},
   "outputs": [
    {
     "name": "stdout",
     "output_type": "stream",
     "text": [
      "File  1\n",
      "\n",
      "\n",
      "loving vintage springs vintage strat good tension great stability floating bridge want springs way go\n",
      "\n",
      "\n",
      "File  2\n",
      "\n",
      "\n",
      "awesome stand tip bottom part supports guitar weird angle arrived making guitar slide back becoming almost 100 vertical solve assembled product put pressure support frame making bend little guitar sits perfectly check photos\n",
      "\n",
      "\n",
      "File  3\n",
      "\n",
      "\n",
      "amp real deal great crunch gain tones tweaking half bad clean ish tones ve played two 8 orange cabs get cool cute crazy money sound pleasing revealing practice amp primarily play blackstar stack ve fitted celestion v30s wow is would never know thing tone monster even knobs s easy get lost hours playing thing favorite match chapman ml1 hotrod volume tone control evh fans get lot mucking around many knobs many options either guitar amp tone go see micro dark came s probably next higher gain buffered effects loop speaker emu headphone recording direct s thing\n",
      "\n",
      "\n",
      "File  4\n",
      "\n",
      "\n",
      "lot mixer great podcasting 4 outputs used monitor record cue audio mute 34 figure every channel fantastic three source switch headphonecontrol room must podcasting also aux return inputs used extra stereo inputs volumed aux return knobs thing nt like mixer xlr outputs back require adaptors use rca 14 plugs get adaptors\n",
      "\n",
      "\n",
      "File  5\n",
      "\n",
      "\n",
      "mic boss lot better mic ve seen used outofthebox voice sounds great even processing compression eq sounds fantastic rejects ton background noise sounds amazing runs hot ll want clean preamping get clean signal amazing mic price\n",
      "\n",
      "\n"
     ]
    }
   ],
   "source": [
    "for i in range(5):\n",
    "    print(\"File \", (i + 1))\n",
    "    print(\"\\n\")\n",
    "    with open(f'{path}/{list1[i]}', mode='r') as x:\n",
    "        print(x.read())\n",
    "    print(\"\\n\")\n"
   ]
  },
  {
   "cell_type": "code",
   "execution_count": null,
   "id": "f9f979c8",
   "metadata": {},
   "outputs": [],
   "source": []
  }
 ],
 "metadata": {
  "kernelspec": {
   "display_name": "Python 3 (ipykernel)",
   "language": "python",
   "name": "python3"
  },
  "language_info": {
   "codemirror_mode": {
    "name": "ipython",
    "version": 3
   },
   "file_extension": ".py",
   "mimetype": "text/x-python",
   "name": "python",
   "nbconvert_exporter": "python",
   "pygments_lexer": "ipython3",
   "version": "3.9.12"
  }
 },
 "nbformat": 4,
 "nbformat_minor": 5
}
